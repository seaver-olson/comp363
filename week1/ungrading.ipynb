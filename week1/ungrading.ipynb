{
 "cells": [
  {
   "cell_type": "markdown",
   "id": "342f8e06",
   "metadata": {},
   "source": [
    "# Ungrading week 1\n",
    "\n",
    "Below is a test for my c implementation, it randomly generates a new map each time"
   ]
  },
  {
   "cell_type": "code",
   "execution_count": 1,
   "id": "ee61d2dd",
   "metadata": {},
   "outputs": [
    {
     "name": "stdout",
     "output_type": "stream",
     "text": [
      "Input Graph = \n",
      "[ _ 3 6 5 ]\n",
      "[ 3 _ 6 _ ]\n",
      "[ 6 6 _ _ ]\n",
      "[ 5 _ _ _ ]\n",
      "Minimum Spanning Tree: \n",
      "MST edges:\n",
      "Edge 0 - 1: weight 3\n",
      "Edge 0 - 2: weight 6\n",
      "Edge 0 - 3: weight 5\n"
     ]
    }
   ],
   "source": [
    "%%bash\n",
    "gcc -o test cImp.c\n",
    "./test\n",
    "rm test"
   ]
  },
  {
   "cell_type": "markdown",
   "id": "6a223f48",
   "metadata": {},
   "source": [
    "### Changes between implementations\n",
    "- Leo used the component labelling strategy where each node is assigned a label ie 1,2,3 this tells us which component the node belongs to. I like to think of this method like this: If Leo wanted to check which students in comp 363 were working on the same repo by asking them in class he would do the following.  \n",
    "    - 1 Pick the closest student to him and ask who they are working with. \n",
    "        - `for vertex in range(self.n):\n",
    "            if vertex not in visited:`\n",
    "        \n",
    "    - 2 Make all those people come sit with that student, then label them group (1+n times done this step already)\n",
    "        - `reachable_from_vertex = self._reachabilty(vertex, self.T)`\n",
    "\n",
    "        - `visited.extend(reachable_from_vertex)`\n",
    "\n",
    "        - `for v in reachable_from_vertex:\n",
    "                    component_label[v] = count_of_components`\n",
    "\n",
    "    - 3 Pick a new student not in the group and do step 1-2 until step 3 fails due to lack of students.\n",
    "\n",
    "While this method may work for one run through, it gets out of hand fast when it has to run everytime you look for a new component or \"student\".  This is even worse when implemented in C since I would have to use realloc many times.\n",
    "\n",
    "Instead, I opted to create a chain of pointers that could use a simple `find()` function to locate the top of the chain of pointers.  If two nodes had the same root pointer at the end of the chain, they would be in the same component. \n",
    "\n",
    "While I do realize I did the assignment in a different way then Leo had instructed in class, I believe this method I came up with is a lot more optimial for C coding.  While Leo's method does not have any flaws, with how much reallocation I would have done with the variable length arrays, I would have rather taken my chances with the 6th floor Mundy window."
   ]
  },
  {
   "cell_type": "markdown",
   "id": "977d0986",
   "metadata": {},
   "source": []
  }
 ],
 "metadata": {
  "kernelspec": {
   "display_name": ".venv",
   "language": "python",
   "name": "python3"
  },
  "language_info": {
   "codemirror_mode": {
    "name": "ipython",
    "version": 3
   },
   "file_extension": ".py",
   "mimetype": "text/x-python",
   "name": "python",
   "nbconvert_exporter": "python",
   "pygments_lexer": "ipython3",
   "version": "3.13.2"
  }
 },
 "nbformat": 4,
 "nbformat_minor": 5
}
