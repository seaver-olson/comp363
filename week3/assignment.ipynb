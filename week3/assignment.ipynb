{
 "cells": [
  {
   "cell_type": "markdown",
   "id": "affe53ce",
   "metadata": {},
   "source": [
    "# Week 03 Assignment: Huffman Encoding\n"
   ]
  },
  {
   "cell_type": "markdown",
   "id": "153b78f5",
   "metadata": {},
   "source": [
    "### Your assignment\n",
    "\n",
    "The code below is based on the [work we did in the classroom](https://github.com/lgreco/comp-363-f25-live-coding/blob/main/week03/huffman.ipynb) this week. We are given a binary tree [`Node` object](./Node.py) and a few basic methods towards building a Huffman encoder/decoder. Your assignment is to complete the Huffman encoder/decoder according to the following specifications.\n",
    "\n",
    "- You may assume that the input message comprises only upper case and spaces. Method `filter_uppercase_and_spaces` can convert any string to just upper case letters and spaces, discarding punctuation marks, numbers, and other characters.\n",
    "\n",
    "- You may assume that the message is sufficiently long so that space is the most frequent character in it.\n",
    "\n",
    "An example of an encoding table is shown below. In this example we use `0` to denote a left child and `1` for a right child. This particular example _does not_ assume that space is the most frequency character. The example is from a [slide deck about Huffman](https://docs.google.com/presentation/d/1kSXEB7mzumoUm4pw7dhtxJxX7xckzjpUDyWlGfAxzAI/edit?usp=sharing) that you are welcome to peruse.\n",
    "\n",
    "![Huffman Table](./Huffman%20Encoding.png)\n"
   ]
  },
  {
   "cell_type": "markdown",
   "id": "aa6e7a7d",
   "metadata": {},
   "source": [
    "### Reading\n",
    "\n",
    "- [Greedy Algorithms](https://jeffe.cs.illinois.edu/teaching/algorithms/book/04-greedy.pdf) from Jeff Erikson's book.\n"
   ]
  },
  {
   "cell_type": "code",
   "execution_count": null,
   "id": "53f6412b",
   "metadata": {},
   "outputs": [],
   "source": [
    "from Node import Node\n",
    "\n",
    "\n",
    "def filter_uppercase_and_spaces(input_string: str) -> str:\n",
    "    \"\"\"\n",
    "    Filters the input string to retain only uppercase letters and spaces.\n",
    "    \"\"\"\n",
    "    return \"\".join(\n",
    "        char for char in input_string.upper() if char.isalpha() or char == \" \"\n",
    "    )\n",
    "\n",
    "\n",
    "def count_frequencies(input_string: str) -> list[int]:\n",
    "    \"\"\"\n",
    "    Counts the frequency of each uppercase letter in the input string.\n",
    "    Returns a list of 26 integers, where index 0-25 correspond to 'A'-'Z'.\n",
    "    You can assume the input string contains only uppercase letters and spaces.\n",
    "    And that spaces are the most frequent character, so really we dont need\n",
    "    to count them.\n",
    "    \"\"\"\n",
    "    pass\n",
    "\n",
    "\n",
    "def initialize_forest(frequencies: list[int]) -> list[Node]:\n",
    "    \"\"\"\n",
    "    Initializes a forest (list) of Node objects for each character with a non-zero frequency.\n",
    "    \"\"\"\n",
    "    pass\n",
    "\n",
    "\n",
    "def build_huffman_tree(frequencies: list[int]) -> Node:\n",
    "    \"\"\"\n",
    "    Builds the Huffman tree from the list of frequencies and returns the root Node.\n",
    "    \"\"\"\n",
    "    forest = initialize_forest(frequencies)\n",
    "    # Your code here\n",
    "    return forest[0]\n",
    "\n",
    "\n",
    "def build_encoding_table(huffman_tree_root: Node) -> list[str]:\n",
    "    \"\"\"\n",
    "    Builds the encoding table from the Huffman tree.\n",
    "    Returns a list of 27 strings, where index 0-25 correspond to 'A'-'Z'\n",
    "    and index 26 corresponds to space.\n",
    "    Each string is the binary encoding for that character.\n",
    "    \"\"\"\n",
    "    pass\n",
    "\n",
    "\n",
    "def encode(input_string: str, encoding_table: list[str]) -> str:\n",
    "    \"\"\"\n",
    "    Encodes the input string using the provided encoding table. Remember\n",
    "    that the encoding table has 27 entries, one for each letter A-Z and\n",
    "    one for space. Space is at the last index (26).\n",
    "    \"\"\"\n",
    "    pass\n",
    "\n",
    "\n",
    "def decode(encoded_string: str, huffman_root: Node) -> str:\n",
    "    \"\"\"\n",
    "    Decodes the encoded string using the Huffman table as a key.\n",
    "    \"\"\"\n",
    "    pass"
   ]
  },
  {
   "cell_type": "markdown",
   "id": "5a52687e",
   "metadata": {},
   "source": [
    "# Coding requirements\n",
    "\n",
    "- You may _not_ import modules in your code without explicit permission from Leo. Basically this means no `import` or `include` or similar statements in your programs.\n",
    "\n",
    "- You may _not_ use statements like `break` to end loops or `continue` and `pass` to move through branching.\n",
    "\n",
    "- When possible, methods that return values should have only one return statement. This is no longer a strict requirement (if you took COMP 271/272 with me, you know what I am talking about). In general, there is no good reason for a method with 20-25 lines of code at most to have multiple return statements.\n",
    "\n",
    "- Your code should be neat and well documented. If you are coding with Visual Studio Code, there are extensions that can do a great job formatting your program. For Python, consider installing the **Black Formatter** by Microsoft.\n",
    "\n",
    "- If you code in Python, learn to use type hints. They are annoying but useful.\n",
    "\n",
    "- Use a standard style guide for your code. I like Google's style guides for [Java](https://google.github.io/styleguide/javaguide.html) and [Python](https://google.github.io/styleguide/pyguide.html).\n",
    "\n",
    "- If you are using Jupyter notebooks, spend some time exploring MarkDown syntax for documentation and LaTeX for mathmetical typesetting. Good skills to have.\n",
    "\n",
    "# Finals week policy\n",
    "\n",
    "There is no final exam for the course. There will be a final assignemnt that will be published the week before finals and will be due the week of finals. Additionally, 8 students in the course will be invited randomly to a brief meeting with the instructor during the course's final exam slot. If you are selected for a brief meeting, we'll spend about 15 minutes during the final exam slot to review your work. This interview will cover coding practices based on your past assignments. It is meant as a checkpoint to ensure that you have internalized the work you submitted.\n"
   ]
  }
 ],
 "metadata": {
  "kernelspec": {
   "display_name": "Python 3",
   "language": "python",
   "name": "python3"
  },
  "language_info": {
   "codemirror_mode": {
    "name": "ipython",
    "version": 3
   },
   "file_extension": ".py",
   "mimetype": "text/x-python",
   "name": "python",
   "nbconvert_exporter": "python",
   "pygments_lexer": "ipython3",
   "version": "3.12.1"
  }
 },
 "nbformat": 4,
 "nbformat_minor": 5
}