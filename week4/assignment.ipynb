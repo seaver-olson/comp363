{
 "cells": [
  {
   "cell_type": "markdown",
   "id": "affe53ce",
   "metadata": {},
   "source": [
    "# Week 04 Assignment: Dynamic Programming"
   ]
  },
  {
   "cell_type": "markdown",
   "id": "153b78f5",
   "metadata": {},
   "source": [
    "$M_n$ is a set of $n$ artifacts; for example the artifacts in a museum. For simplicity we write \n",
    "\n",
    "$$M_n = \\{ 1, 2, \\dots, n-1, n\\}$$\n",
    "\n",
    "Each member of the set has a value $v_i>0$ and a weight $w_i>0$, for $1\\leq i \\leq n$. We assume values and weights to be integer numbers.\n",
    "\n",
    "Our objective is to find a subset $S\\subseteq M_n$ such that \n",
    "\n",
    "$$\n",
    "\\arg\\max_{S} \\sum_{i\\in S} v_i\n",
    "$$\n",
    "\n",
    "under the constraint that\n",
    "$$\n",
    "\\sum_{i\\in S} w_i \\leq C_{\\max{}}\n",
    "$$\n",
    "\n",
    "In other words, we are looking at the subset $S$ of $M_n$ whose total value is maximum, among all possible subsets and whose weight meets some constraint $C_{\\max}$.\n",
    "\n",
    "The problem can be solved by brute force when $n< 90$ and becomes untractable for larger values. Tractable here means a problem that can be solved by a computer capable of completing $10^9$ steps per second and has been working on this problem since the birth of the universe nearly 14 billion years ago.\n",
    "\n",
    "A more realistic restriction is a computer than has been running for as long as the average age of student majoring in CS, i.e., 23 years. In this case, a tractable problem means $n<63$."
   ]
  },
  {
   "cell_type": "markdown",
   "id": "109abab0",
   "metadata": {},
   "source": [
    "### Problem setup\n",
    "\n",
    "If $S\\subseteq M_n$ is optimal we can assume that **either** ${\\color{blue}n\\not\\in S}$ **or** ${\\color{maroon}n\\in S}$.\n",
    "\n",
    "If ${\\color{blue}n\\not\\in S}$ then $S$ is also optimal for $M_{n-1}$.\n",
    "\n",
    "If ${\\color{maroon}n\\in S}$ then $S-\\{n\\}$ is optimal for $M_{n-1}$.\n",
    "\n",
    "The observation above may sound trivial but also very useful: when we know that $S$ solves the problem for $M_n$ we also know what the solution to the immediately smaller problem looks like: either $S$ itself or $S-\\{n\\}$ is the optimal subset for $M_{n-1}$."
   ]
  },
  {
   "cell_type": "markdown",
   "id": "6e96af5e",
   "metadata": {},
   "source": [
    "### Notation\n",
    "\n",
    "In general, $S(i, r)$ is the total value of the items in the optimal subset $S\\subseteq M_i$ subject to a capacity restriction $r$, with $0\\leq i \\leq n$ and $0\\leq r\\leq C_{\\max}$:\n",
    "\\begin{align*}\n",
    "  \\arg\\max_{S} \\sum_{k\\in S} v_k\\ \\text{while}\\ \\sum_{k\\in S} w_k \\leq r\n",
    "\\end{align*}\n",
    "\n",
    "We are interested is $S(n, C_{\\max})$ and we can see two cases. If the $n$-th item is too heavy, we simply cannot include it in $S$. In this case, the total value of the optimal subet for $M_n$ is the same as for $M_{n-1}$:\n",
    "\n",
    "$$S(n, C_{\\max})=S(n-1, C_{\\max})$$\n",
    "\n",
    "What if there is room for the $n$-th item? What if $w_n \\leq C_{\\max}$? In this case, we have two choices. One choice is to take the best subset from $M_{n-1}$ with total weight that adds up to $C_{\\max}$. The other choice is to take the best deal from $M_{n-1}$ but leave enough room for the $n$-ith item and take it. A bit more formally:\n",
    "\n",
    "* **Choice 1:** Take the best deal we can fit in $C_{\\max}$ from $M_{n-1}$. The value of this deal is $S(n-1, C_{\\max})$.\n",
    "\n",
    "* **Choice 2:** Take the best deal we can fit in  $C_{\\max}-w_n$ from $M_{n-1}$, leaving room to also take the last item. The value of this deal is $S(n-1, C_{\\max}-w_n)$. The value of the last time, $v_n$ will be added to this.\n",
    "\n",
    "Between these two choices, we go for the best one. And so:\n",
    "\n",
    "$$\n",
    "S(n, C_{\\max}) =\n",
    "\\begin{cases} \n",
    "  S(n-1, C_{\\max}),\\ \\text{if}\\ w_n > C_{\\max} \\\\ \\\\\n",
    "  \\max{\\left[\n",
    "    S(n-1, C_{\\max}),\\ S(n-1, C_{\\max}-w_n)+v_n\n",
    "  \\right],\\ \\ \\text{if}\\ w_n \\leq C_{\\max}}\n",
    "\\end{cases}\n",
    "$$\n",
    "with $S(i, 0) =0$ and $S(0,r)=0$\n",
    "for $0 \\leq i \\leq n$ and $0 \\leq r \\leq C_{\\max}$.\n",
    "\n",
    "\n",
    "There are really two options here and both depend on the best value for the smaller problem with $n-1$ items. All we need to decide is do we take the most valuable subset of $M_{n-1}$ whose weight adds up to $C_{\\max}$ or to $C_{\\max}-w_n$?  \n",
    "\n",
    "This leads to an $(n+1)\\times (C_{\\max}+1)$ array where the bottom right cell has the value of the optimal subset for $M_n$."
   ]
  },
  {
   "cell_type": "code",
   "execution_count": null,
   "id": "bf3c01d0",
   "metadata": {},
   "outputs": [],
   "source": [
    "def __optimal_subset_value(value:list[int], weight:list[int], Cmax:int) -> list[list[int]]:\n",
    "    \"\"\"\n",
    "    Pseudocode for S\n",
    "    Initialize array with n+1 rows and Cmax+1 columns\n",
    "    Set first row and first column to 0\n",
    "    for row = 1 to n inclusive:\n",
    "    for avail_capacity = 1 to Cmax inclusive:\n",
    "       ... etc etc ...\n",
    "    \"\"\"\n",
    "    return S\n"
   ]
  },
  {
   "cell_type": "markdown",
   "metadata": {},
   "source": [
    "### Find the items in the optimal subset\n",
    "\n",
    "Procedure `optimal_subset_value` finds the most valuable subset among $n$ items, that meets the $C_{\\max}$ restriction. It would be nice to also know which of those $n$ items are in the subset. For this, it's important to remember the meaning of values in the array returned by the procedure: $S(i,r)$ (or, in code notation, `S[i][r]`), is the total value of all the items in the most valuable subset among the first $i$-items of $M_n$ whose total weight does not exceed $r$.\n",
    "\n",
    "We started working on this problem by asking if the last item in $M_n$ is included in its most valuable subset. So, it makes sense to start from the bottom row of array `S` and determine if item $n$ is in the optimal subset or not.\n",
    "\n",
    "There are only two values that $S(n, C_{\\max})$ can take. If $S(n, C_{\\max}) = S(n-1, C_{\\max})$, then item $n$ is not included in the optimal subset. Else, if $S(n, C_{\\max}) = S(n-1, C_{\\max}-w_n)+v_n$, item $n$ is added to the optimal subset, and we then explore what's the optimal subset among the first $n-1$ items whose weight is at or below $C_{\\max}-w_n$. We continue this process until we reach the top row or the first column of array `S`."
   ]
  },
  {
   "cell_type": "code",
   "execution_count": null,
   "id": "958a17de",
   "metadata": {},
   "outputs": [],
   "source": [
    "def __build_subset(...):\n",
    "    subset = []\n",
    "    # iterate backwards through S to find which items are included\n",
    "    # ... your code here ...\n",
    "    return subset"
   ]
  },
  {
   "cell_type": "markdown",
   "id": "9e1d94f8",
   "metadata": {},
   "source": [
    "# Your assignment\n",
    "\n",
    "Write a class named `Museum` whose instance is a collection of $n$ items with non-negative integer weights and value, and a capacity restriction provided by the user. For example,\n",
    "```python\n",
    "value = [None, 10, 5, 16, 11] # value[0] not used; index i corresponds to item i\n",
    "weight = [None, 3, 2, 4, 4] # weight[0] not used; index i corresponds to item i\n",
    "c_max = 10 # capacity restriction\n",
    "small_museum = Museum(value, weight, c_max)\n",
    "```\n",
    "The class should publicly explose only method `solve` that should find the optimal subset for among all items whose weights and values were given, and print the following information: how many subsets were theoretically possible, what was the size of matrix `S`, how many items are in the optimal subset, what is their total weight, how does it compare to the capacity restriction `c_max`, and what is the total value of all the items in the subset."
   ]
  },
  {
   "cell_type": "markdown",
   "id": "aa6e7a7d",
   "metadata": {},
   "source": [
    "### Reading\n",
    "\n",
    "\n",
    "* [Dynamic Programming](https://jeffe.cs.illinois.edu/teaching/algorithms/book/03-dynprog.pdf) (Chapter 3 from Jeff Erickson's book).\n",
    "* [Dynamic Programming](https://web.mit.edu/15.053/www/AMP-Chapter-11.pdf) (Chapter 11, from Applied Mathematical Programming, by Bradley, Hax, and Magnanti).\n",
    "* [The Theory of Dynamic Programming](https://www.rand.org/content/dam/rand/pubs/papers/2008/P550.pdf) Richard Bellman's 1954 paper summarizing his work.\n",
    "* [Dynamic Programming](https://people.eecs.berkeley.edu/~vazirani/algorithms/chap6.pdf) (Chapter 6 from Algorithms by Dasgupta, Papadimitriou, and Vazirani).'\n"
   ]
  },
  {
   "cell_type": "markdown",
   "id": "5a52687e",
   "metadata": {},
   "source": [
    "# Coding requirements\n",
    "\n",
    "- You may _not_ import modules in your code without explicit permission from Leo. Basically this means no `import` or `include` or similar statements in your programs.\n",
    "\n",
    "- You may _not_ use statements like `break` to end loops or `continue` and `pass` to move through branching.\n",
    "\n",
    "- When possible, methods that return values should have only one return statement. This is no longer a strict requirement (if you took COMP 271/272 with me, you know what I am talking about). In general, there is no good reason for a method with 20-25 lines of code at most to have multiple return statements.\n",
    "\n",
    "- Your code should be neat and well documented. If you are coding with Visual Studio Code, there are extensions that can do a great job formatting your program. For Python, consider installing the **Black Formatter** by Microsoft.\n",
    "\n",
    "- If you code in Python, learn to use type hints. They are annoying but useful.\n",
    "\n",
    "- Use a standard style guide for your code. I like Google's style guides for [Java](https://google.github.io/styleguide/javaguide.html) and [Python](https://google.github.io/styleguide/pyguide.html).\n",
    "\n",
    "- If you are using Jupyter notebooks, spend some time exploring MarkDown syntax for documentation and LaTeX for mathmetical typesetting. Good skills to have.\n",
    "\n",
    "# Finals week policy\n",
    "\n",
    "There is no final exam for the course. There will be a final assignemnt that will be published the week before finals and will be due the week of finals. Additionally, 8 students in the course will be invited randomly to a brief meeting with the instructor during the course's final exam slot. If you are selected for a brief meeting, we'll spend about 15 minutes during the final exam slot to review your work. This interview will cover coding practices based on your past assignments. It is meant as a checkpoint to ensure that you have internalized the work you submitted.\n"
   ]
  }
 ],
 "metadata": {
  "kernelspec": {
   "display_name": "Python 3",
   "language": "python",
   "name": "python3"
  },
  "language_info": {
   "codemirror_mode": {
    "name": "ipython",
    "version": 3
   },
   "file_extension": ".py",
   "mimetype": "text/x-python",
   "name": "python",
   "nbconvert_exporter": "python",
   "pygments_lexer": "ipython3",
   "version": "3.12.1"
  }
 },
 "nbformat": 4,
 "nbformat_minor": 5
}
